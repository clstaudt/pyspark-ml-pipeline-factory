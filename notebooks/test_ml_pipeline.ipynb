{
 "cells": [
  {
   "cell_type": "markdown",
   "metadata": {},
   "source": [
    "# Test ML Pipeline"
   ]
  },
  {
   "cell_type": "code",
   "execution_count": 1,
   "metadata": {},
   "outputs": [],
   "source": [
    "%load_ext autoreload\n",
    "%autoreload 2"
   ]
  },
  {
   "cell_type": "code",
   "execution_count": 2,
   "metadata": {},
   "outputs": [],
   "source": [
    "%matplotlib inline"
   ]
  },
  {
   "cell_type": "code",
   "execution_count": 3,
   "metadata": {},
   "outputs": [],
   "source": [
    "import findspark\n",
    "findspark.init()"
   ]
  },
  {
   "cell_type": "code",
   "execution_count": 4,
   "metadata": {},
   "outputs": [],
   "source": [
    "import pyspark"
   ]
  },
  {
   "cell_type": "code",
   "execution_count": 5,
   "metadata": {},
   "outputs": [
    {
     "name": "stdout",
     "output_type": "stream",
     "text": [
      "/Users/cls/Documents/IndependentDataScience/Projects/Telekom/pyspark-ml-pipeline-factory\n"
     ]
    }
   ],
   "source": [
    "cd .."
   ]
  },
  {
   "cell_type": "code",
   "execution_count": 6,
   "metadata": {},
   "outputs": [],
   "source": [
    "from mlpipelinefactory import factory"
   ]
  },
  {
   "cell_type": "code",
   "execution_count": 7,
   "metadata": {},
   "outputs": [],
   "source": [
    "data_path = \"/Users/cls/Documents/IndependentDataScience/Projects/point8/data-science-101/notebooks/.assets/data/titanic/titanic.csv\""
   ]
  },
  {
   "cell_type": "code",
   "execution_count": 8,
   "metadata": {},
   "outputs": [],
   "source": [
    "spark = pyspark.sql.SparkSession \\\n",
    "    .builder \\\n",
    "    .appName(\"MLPipelineTest\") \\\n",
    "    .getOrCreate()\n"
   ]
  },
  {
   "cell_type": "code",
   "execution_count": 9,
   "metadata": {},
   "outputs": [],
   "source": [
    "from pyspark.sql.types import StructType, StructField, DoubleType, IntegerType, StringType\n",
    "\n",
    "schema = StructType([\n",
    "             StructField('PassengerId', StringType()),\n",
    "             StructField('Survived', IntegerType()),\n",
    "             StructField('Pclass', IntegerType()),\n",
    "             StructField('Name', StringType()),\n",
    "             StructField('Sex', StringType()),\n",
    "             StructField('Age', IntegerType()),\n",
    "             StructField('SibSp', IntegerType()),\n",
    "             StructField('Parch', IntegerType()),\n",
    "             StructField('Ticket', StringType()),\n",
    "             StructField('Fare', DoubleType()),\n",
    "             StructField('Cabin', StringType()),\n",
    "             StructField('Embarked', StringType())\n",
    "        ])"
   ]
  },
  {
   "cell_type": "code",
   "execution_count": 10,
   "metadata": {},
   "outputs": [],
   "source": [
    "data = spark.read.format(\"csv\").option(\"header\", \"true\").schema(schema).load(data_path) \n"
   ]
  },
  {
   "cell_type": "code",
   "execution_count": 12,
   "metadata": {},
   "outputs": [
    {
     "name": "stdout",
     "output_type": "stream",
     "text": [
      "+-----------+--------+------+--------------------+------+---+-----+-----+----------------+-------+-----+--------+\n",
      "|PassengerId|Survived|Pclass|                Name|   Sex|Age|SibSp|Parch|          Ticket|   Fare|Cabin|Embarked|\n",
      "+-----------+--------+------+--------------------+------+---+-----+-----+----------------+-------+-----+--------+\n",
      "|          1|       0|     3|Braund, Mr. Owen ...|  male| 22|    1|    0|       A/5 21171|   7.25| null|       S|\n",
      "|          2|       1|     1|Cumings, Mrs. Joh...|female| 38|    1|    0|        PC 17599|71.2833|  C85|       C|\n",
      "|          3|       1|     3|Heikkinen, Miss. ...|female| 26|    0|    0|STON/O2. 3101282|  7.925| null|       S|\n",
      "|          4|       1|     1|Futrelle, Mrs. Ja...|female| 35|    1|    0|          113803|   53.1| C123|       S|\n",
      "|          5|       0|     3|Allen, Mr. Willia...|  male| 35|    0|    0|          373450|   8.05| null|       S|\n",
      "+-----------+--------+------+--------------------+------+---+-----+-----+----------------+-------+-----+--------+\n",
      "only showing top 5 rows\n",
      "\n"
     ]
    }
   ],
   "source": [
    "data.show(5)"
   ]
  },
  {
   "cell_type": "code",
   "execution_count": 13,
   "metadata": {},
   "outputs": [
    {
     "data": {
      "text/plain": [
       "[('PassengerId', 'string'),\n",
       " ('Survived', 'int'),\n",
       " ('Pclass', 'int'),\n",
       " ('Name', 'string'),\n",
       " ('Sex', 'string'),\n",
       " ('Age', 'int'),\n",
       " ('SibSp', 'int'),\n",
       " ('Parch', 'int'),\n",
       " ('Ticket', 'string'),\n",
       " ('Fare', 'double'),\n",
       " ('Cabin', 'string'),\n",
       " ('Embarked', 'string')]"
      ]
     },
     "execution_count": 13,
     "metadata": {},
     "output_type": "execute_result"
    }
   ],
   "source": [
    "data.dtypes"
   ]
  },
  {
   "cell_type": "code",
   "execution_count": 14,
   "metadata": {},
   "outputs": [],
   "source": [
    "pf = factory.MLPipelineFactory(data=data,\n",
    "                                    problemType=\"classification\",\n",
    "                                    target=\"Survived\",\n",
    "                                    numericCols=[\n",
    "                                            \"Age\",\n",
    "                                            \"Fare\",\n",
    "                                            \"SibSp\",\n",
    "                                            \"Parch\"\n",
    "                                        ],\n",
    "                                    categoricalCols = [\n",
    "                                            \"Sex\",\n",
    "                                            \"Embarked\"\n",
    "                                        ],\n",
    "                                    categoricalEncoding=\"index\",\n",
    "                                    algorithm=\"Random Forest\")\n"
   ]
  },
  {
   "cell_type": "code",
   "execution_count": 15,
   "metadata": {},
   "outputs": [
    {
     "name": "stdout",
     "output_type": "stream",
     "text": [
      "assembling feature vectors, using input columns:  ['Age', 'Fare', 'SibSp', 'Parch', 'Sex_indexed', 'Embarked_indexed']\n"
     ]
    }
   ],
   "source": [
    "pf.make()"
   ]
  },
  {
   "cell_type": "code",
   "execution_count": 16,
   "metadata": {},
   "outputs": [],
   "source": [
    "splitRatio = 0.8\n",
    "training, test = data.randomSplit([splitRatio, 1-splitRatio])"
   ]
  },
  {
   "cell_type": "code",
   "execution_count": 17,
   "metadata": {},
   "outputs": [
    {
     "name": "stdout",
     "output_type": "stream",
     "text": [
      "CPU times: user 46.6 ms, sys: 9.44 ms, total: 56 ms\n",
      "Wall time: 4.91 s\n"
     ]
    }
   ],
   "source": [
    "%%time\n",
    "pipeline = pf.getPipeline(\"complete\")\n",
    "model = pipeline.fit(training)\n",
    "\n"
   ]
  },
  {
   "cell_type": "code",
   "execution_count": 18,
   "metadata": {},
   "outputs": [
    {
     "name": "stdout",
     "output_type": "stream",
     "text": [
      "+-----------+--------+------+--------------------+------+----+-----+-----+------------------+-------+-----+--------+\n",
      "|PassengerId|Survived|Pclass|                Name|   Sex| Age|SibSp|Parch|            Ticket|   Fare|Cabin|Embarked|\n",
      "+-----------+--------+------+--------------------+------+----+-----+-----+------------------+-------+-----+--------+\n",
      "|       null|    null|  null|                null|  null|null| null| null|              null|   null| null|    null|\n",
      "|       null|    null|  null|                null|  null|null| null| null|              null|   null| null|    null|\n",
      "|       null|    null|  null|                null|  null|null| null| null|              null|   null| null|    null|\n",
      "|         10|       1|     2|Nasser, Mrs. Nich...|female|  14|    1|    0|            237736|30.0708| null|       C|\n",
      "|        102|       0|     3|\"Petroff, Mr. Pas...|  male|null|    0|    0|            349215| 7.8958| null|       S|\n",
      "|        106|       0|     3|Mionoff, Mr. Stoy...|  male|  28|    0|    0|            349207| 7.8958| null|       S|\n",
      "|        113|       0|     3|Barton, Mr. David...|  male|  22|    0|    0|            324669|   8.05| null|       S|\n",
      "|        115|       0|     3|Attalah, Miss. Ma...|female|  17|    0|    0|              2627|14.4583| null|       C|\n",
      "|        126|       1|     3|Nicola-Yarred, Ma...|  male|  12|    1|    0|              2651|11.2417| null|       C|\n",
      "|        127|       0|     3| McMahon, Mr. Martin|  male|null|    0|    0|            370372|   7.75| null|       Q|\n",
      "|        132|       0|     3|Coelho, Mr. Domin...|  male|  20|    0|    0|SOTON/O.Q. 3101307|   7.05| null|       S|\n",
      "|        136|       0|     2|  Richard, Mr. Emile|  male|  23|    0|    0|     SC/PARIS 2133|15.0458| null|       C|\n",
      "|        140|       0|     1|  Giglio, Mr. Victor|  male|  24|    0|    0|          PC 17593|   79.2|  B86|       C|\n",
      "|        141|       0|     3|Boulos, Mrs. Jose...|female|null|    0|    2|              2678|15.2458| null|       C|\n",
      "|        144|       0|     3| Burke, Mr. Jeremiah|  male|  19|    0|    0|            365222|   6.75| null|       Q|\n",
      "|        160|       0|     3|Sage, Master. Tho...|  male|null|    8|    2|          CA. 2343|  69.55| null|       S|\n",
      "|         18|       1|     2|Williams, Mr. Cha...|  male|null|    0|    0|            244373|   13.0| null|       S|\n",
      "|        199|       1|     3|\"Madigan, Miss. M...|female|null|    0|    0|            370370|   7.75| null|       Q|\n",
      "|         20|       1|     3|Masselmani, Mrs. ...|female|null|    0|    0|              2649|  7.225| null|       C|\n",
      "|         21|       0|     2|Fynney, Mr. Joseph J|  male|  35|    0|    0|            239865|   26.0| null|       S|\n",
      "+-----------+--------+------+--------------------+------+----+-----+-----+------------------+-------+-----+--------+\n",
      "only showing top 20 rows\n",
      "\n"
     ]
    }
   ],
   "source": [
    "test.show()"
   ]
  },
  {
   "cell_type": "code",
   "execution_count": 19,
   "metadata": {},
   "outputs": [],
   "source": [
    "predictions = model.transform(test)\n"
   ]
  },
  {
   "cell_type": "code",
   "execution_count": 20,
   "metadata": {},
   "outputs": [
    {
     "name": "stdout",
     "output_type": "stream",
     "text": [
      "[('features', 'vector'), ('label', 'int'), ('rawPrediction', 'vector'), ('probability', 'vector'), ('prediction', 'double')]\n"
     ]
    }
   ],
   "source": [
    "print(predictions.dtypes)"
   ]
  },
  {
   "cell_type": "code",
   "execution_count": 21,
   "metadata": {},
   "outputs": [
    {
     "name": "stdout",
     "output_type": "stream",
     "text": [
      "+--------------------+-----+--------------------+--------------------+----------+\n",
      "|            features|label|       rawPrediction|         probability|prediction|\n",
      "+--------------------+-----+--------------------+--------------------+----------+\n",
      "|[14.0,30.0708,1.0...|    1|[5.96862768854396...|[0.29843138442719...|       1.0|\n",
      "|(6,[0,1],[28.0,7....|    0|[16.6164131936464...|[0.83082065968232...|       0.0|\n",
      "|(6,[0,1],[22.0,8....|    0|[17.3427054084352...|[0.86713527042176...|       0.0|\n",
      "|[17.0,14.4583,0.0...|    0|[3.48107379175352...|[0.17405368958767...|       1.0|\n",
      "|[12.0,11.2417,1.0...|    1|[17.519031921949,...|[0.87595159609744...|       0.0|\n",
      "|(6,[0,1],[20.0,7....|    0|[17.8673856162598...|[0.89336928081299...|       0.0|\n",
      "|[23.0,15.0458,0.0...|    0|[15.4720054890006...|[0.77360027445003...|       0.0|\n",
      "|[24.0,79.2,0.0,0....|    0|[10.4317973712807...|[0.52158986856403...|       0.0|\n",
      "|[19.0,6.75,0.0,0....|    0|[16.7369450085493...|[0.83684725042746...|       0.0|\n",
      "|(6,[0,1],[35.0,26...|    0|[15.7353133701381...|[0.78676566850690...|       0.0|\n",
      "|[35.0,21.0,0.0,0....|    1|[4.81194480241657...|[0.24059724012082...|       1.0|\n",
      "|(6,[0,1],[22.0,7....|    0|[18.0462649266046...|[0.90231324633023...|       0.0|\n",
      "|[38.0,90.0,1.0,0....|    1|[12.0191311196269...|[0.60095655598134...|       0.0|\n",
      "|[35.0,83.475,1.0,...|    1|[2.08749695025317...|[0.10437484751265...|       1.0|\n",
      "|[8.0,26.25,0.0,2....|    1|[3.90427976603624...|[0.19521398830181...|       1.0|\n",
      "|[30.0,7.225,0.0,0...|    0|[16.8807675672776...|[0.84403837836388...|       0.0|\n",
      "|[24.0,14.5,0.0,2....|    1|[5.03951598180830...|[0.25197579909041...|       1.0|\n",
      "|[38.0,31.3875,1.0...|    1|[17.1737049285257...|[0.85868524642628...|       0.0|\n",
      "|[52.0,79.65,1.0,1...|    0|[14.8254321237180...|[0.74127160618590...|       0.0|\n",
      "|      (6,[0],[40.0])|    0|[18.1159532444574...|[0.90579766222287...|       0.0|\n",
      "+--------------------+-----+--------------------+--------------------+----------+\n",
      "only showing top 20 rows\n",
      "\n"
     ]
    }
   ],
   "source": [
    "predictions.show()"
   ]
  },
  {
   "cell_type": "code",
   "execution_count": 22,
   "metadata": {},
   "outputs": [
    {
     "data": {
      "text/html": [
       "<div>\n",
       "<style scoped>\n",
       "    .dataframe tbody tr th:only-of-type {\n",
       "        vertical-align: middle;\n",
       "    }\n",
       "\n",
       "    .dataframe tbody tr th {\n",
       "        vertical-align: top;\n",
       "    }\n",
       "\n",
       "    .dataframe thead th {\n",
       "        text-align: right;\n",
       "    }\n",
       "</style>\n",
       "<table border=\"1\" class=\"dataframe\">\n",
       "  <thead>\n",
       "    <tr style=\"text-align: right;\">\n",
       "      <th></th>\n",
       "      <th>label</th>\n",
       "      <th>Precision</th>\n",
       "      <th>Recall</th>\n",
       "      <th>F1</th>\n",
       "    </tr>\n",
       "  </thead>\n",
       "  <tbody>\n",
       "    <tr>\n",
       "      <th>0</th>\n",
       "      <td>0.0</td>\n",
       "      <td>0.941860</td>\n",
       "      <td>0.771429</td>\n",
       "      <td>0.848168</td>\n",
       "    </tr>\n",
       "    <tr>\n",
       "      <th>1</th>\n",
       "      <td>1.0</td>\n",
       "      <td>0.657143</td>\n",
       "      <td>0.901961</td>\n",
       "      <td>0.760331</td>\n",
       "    </tr>\n",
       "  </tbody>\n",
       "</table>\n",
       "</div>"
      ],
      "text/plain": [
       "   label  Precision    Recall        F1\n",
       "0    0.0   0.941860  0.771429  0.848168\n",
       "1    1.0   0.657143  0.901961  0.760331"
      ]
     },
     "execution_count": 22,
     "metadata": {},
     "output_type": "execute_result"
    }
   ],
   "source": [
    "factory.evaluateClassifier(pf, data)"
   ]
  },
  {
   "cell_type": "code",
   "execution_count": 23,
   "metadata": {},
   "outputs": [],
   "source": [
    "importances = factory.computeFeatureImportances(pf, data)"
   ]
  },
  {
   "cell_type": "code",
   "execution_count": 24,
   "metadata": {},
   "outputs": [
    {
     "data": {
      "text/plain": [
       "Sex_indexed         0.513377\n",
       "Fare                0.215395\n",
       "Age                 0.124691\n",
       "SibSp               0.064442\n",
       "Parch               0.047725\n",
       "Embarked_indexed    0.034371\n",
       "dtype: float64"
      ]
     },
     "execution_count": 24,
     "metadata": {},
     "output_type": "execute_result"
    }
   ],
   "source": [
    "importances"
   ]
  },
  {
   "cell_type": "code",
   "execution_count": 25,
   "metadata": {},
   "outputs": [
    {
     "data": {
      "text/plain": [
       "<matplotlib.axes._subplots.AxesSubplot at 0x1159df860>"
      ]
     },
     "execution_count": 25,
     "metadata": {},
     "output_type": "execute_result"
    },
    {
     "data": {
      "image/png": "[encoded data removed]",
      "text/plain": [
       "<Figure size 432x288 with 1 Axes>"
      ]
     },
     "metadata": {},
     "output_type": "display_data"
    }
   ],
   "source": [
    "importances.plot(kind=\"bar\")"
   ]
  }
 ],
 "metadata": {
  "kernelspec": {
   "display_name": "Python 3",
   "language": "python",
   "name": "python3"
  },
  "language_info": {
   "codemirror_mode": {
    "name": "ipython",
    "version": 3
   },
   "file_extension": ".py",
   "mimetype": "text/x-python",
   "name": "python",
   "nbconvert_exporter": "python",
   "pygments_lexer": "ipython3",
   "version": "3.6.4"
  }
 },
 "nbformat": 4,
 "nbformat_minor": 2
}

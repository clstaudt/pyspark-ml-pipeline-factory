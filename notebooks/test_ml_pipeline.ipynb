{
 "cells": [
  {
   "cell_type": "markdown",
   "metadata": {},
   "source": [
    "# Test ML Pipeline"
   ]
  },
  {
   "cell_type": "code",
   "execution_count": 1,
   "metadata": {},
   "outputs": [],
   "source": [
    "%load_ext autoreload\n",
    "%autoreload 2"
   ]
  },
  {
   "cell_type": "code",
   "execution_count": 2,
   "metadata": {},
   "outputs": [],
   "source": [
    "import findspark\n",
    "findspark.init()"
   ]
  },
  {
   "cell_type": "code",
   "execution_count": 3,
   "metadata": {},
   "outputs": [],
   "source": [
    "import pyspark"
   ]
  },
  {
   "cell_type": "code",
   "execution_count": 4,
   "metadata": {},
   "outputs": [
    {
     "name": "stdout",
     "output_type": "stream",
     "text": [
      "/Users/cls/Documents/IndependentDataScience/Projects/Telekom/MLPipeline\n"
     ]
    }
   ],
   "source": [
    "cd .."
   ]
  },
  {
   "cell_type": "code",
   "execution_count": 5,
   "metadata": {},
   "outputs": [],
   "source": [
    "from mlpipelinefactory import factory"
   ]
  },
  {
   "cell_type": "code",
   "execution_count": 6,
   "metadata": {},
   "outputs": [],
   "source": [
    "data_path = \"/Users/cls/Documents/IndependentDataScience/Projects/point8/data-science-101/notebooks/.assets/data/titanic/titanic.csv\""
   ]
  },
  {
   "cell_type": "code",
   "execution_count": 7,
   "metadata": {},
   "outputs": [],
   "source": [
    "spark = pyspark.sql.SparkSession \\\n",
    "    .builder \\\n",
    "    .appName(\"MLPipelineTest\") \\\n",
    "    .getOrCreate()\n"
   ]
  },
  {
   "cell_type": "code",
   "execution_count": 8,
   "metadata": {},
   "outputs": [],
   "source": [
    "from pyspark.sql.types import StructType, StructField, DoubleType, IntegerType, StringType\n",
    "\n",
    "schema = StructType([\n",
    "             StructField('PassengerId', StringType()),\n",
    "             StructField('Survived', IntegerType()),\n",
    "             StructField('Pclass', IntegerType()),\n",
    "             StructField('Name', StringType()),\n",
    "             StructField('Sex', StringType()),\n",
    "             StructField('Age', IntegerType()),\n",
    "             StructField('SibSp', IntegerType()),\n",
    "             StructField('Parch', IntegerType()),\n",
    "             StructField('Ticket', StringType()),\n",
    "             StructField('Fare', DoubleType()),\n",
    "             StructField('Cabin', StringType()),\n",
    "             StructField('Embarked', StringType())\n",
    "        ])"
   ]
  },
  {
   "cell_type": "code",
   "execution_count": 9,
   "metadata": {},
   "outputs": [],
   "source": [
    "data = spark.read.format(\"csv\").option(\"header\", \"true\").schema(schema).load(data_path) \n"
   ]
  },
  {
   "cell_type": "code",
   "execution_count": 10,
   "metadata": {},
   "outputs": [
    {
     "data": {
      "text/plain": [
       "[Row(PassengerId='1', Survived=0, Pclass=3, Name='Braund, Mr. Owen Harris', Sex='male', Age=22, SibSp=1, Parch=0, Ticket='A/5 21171', Fare=7.25, Cabin=None, Embarked='S'),\n",
       " Row(PassengerId='2', Survived=1, Pclass=1, Name='Cumings, Mrs. John Bradley (Florence Briggs Thayer)', Sex='female', Age=38, SibSp=1, Parch=0, Ticket='PC 17599', Fare=71.2833, Cabin='C85', Embarked='C'),\n",
       " Row(PassengerId='3', Survived=1, Pclass=3, Name='Heikkinen, Miss. Laina', Sex='female', Age=26, SibSp=0, Parch=0, Ticket='STON/O2. 3101282', Fare=7.925, Cabin=None, Embarked='S'),\n",
       " Row(PassengerId='4', Survived=1, Pclass=1, Name='Futrelle, Mrs. Jacques Heath (Lily May Peel)', Sex='female', Age=35, SibSp=1, Parch=0, Ticket='113803', Fare=53.1, Cabin='C123', Embarked='S'),\n",
       " Row(PassengerId='5', Survived=0, Pclass=3, Name='Allen, Mr. William Henry', Sex='male', Age=35, SibSp=0, Parch=0, Ticket='373450', Fare=8.05, Cabin=None, Embarked='S')]"
      ]
     },
     "execution_count": 10,
     "metadata": {},
     "output_type": "execute_result"
    }
   ],
   "source": [
    "data.take(5)"
   ]
  },
  {
   "cell_type": "code",
   "execution_count": 11,
   "metadata": {},
   "outputs": [
    {
     "name": "stdout",
     "output_type": "stream",
     "text": [
      "+-----------+--------+------+--------------------+------+---+-----+-----+----------------+-------+-----+--------+\n",
      "|PassengerId|Survived|Pclass|                Name|   Sex|Age|SibSp|Parch|          Ticket|   Fare|Cabin|Embarked|\n",
      "+-----------+--------+------+--------------------+------+---+-----+-----+----------------+-------+-----+--------+\n",
      "|          1|       0|     3|Braund, Mr. Owen ...|  male| 22|    1|    0|       A/5 21171|   7.25| null|       S|\n",
      "|          2|       1|     1|Cumings, Mrs. Joh...|female| 38|    1|    0|        PC 17599|71.2833|  C85|       C|\n",
      "|          3|       1|     3|Heikkinen, Miss. ...|female| 26|    0|    0|STON/O2. 3101282|  7.925| null|       S|\n",
      "|          4|       1|     1|Futrelle, Mrs. Ja...|female| 35|    1|    0|          113803|   53.1| C123|       S|\n",
      "|          5|       0|     3|Allen, Mr. Willia...|  male| 35|    0|    0|          373450|   8.05| null|       S|\n",
      "+-----------+--------+------+--------------------+------+---+-----+-----+----------------+-------+-----+--------+\n",
      "only showing top 5 rows\n",
      "\n"
     ]
    }
   ],
   "source": [
    "data.show(5)"
   ]
  },
  {
   "cell_type": "code",
   "execution_count": 12,
   "metadata": {},
   "outputs": [
    {
     "data": {
      "text/plain": [
       "[('PassengerId', 'string'),\n",
       " ('Survived', 'int'),\n",
       " ('Pclass', 'int'),\n",
       " ('Name', 'string'),\n",
       " ('Sex', 'string'),\n",
       " ('Age', 'int'),\n",
       " ('SibSp', 'int'),\n",
       " ('Parch', 'int'),\n",
       " ('Ticket', 'string'),\n",
       " ('Fare', 'double'),\n",
       " ('Cabin', 'string'),\n",
       " ('Embarked', 'string')]"
      ]
     },
     "execution_count": 12,
     "metadata": {},
     "output_type": "execute_result"
    }
   ],
   "source": [
    "data.dtypes"
   ]
  },
  {
   "cell_type": "code",
   "execution_count": 13,
   "metadata": {},
   "outputs": [],
   "source": [
    "pf = factory.MLPipelineFactory(data=data,\n",
    "                                    problemType=\"classification\",\n",
    "                                    target=\"Survived\",\n",
    "                                    numericCols=[\n",
    "                                            \"Age\",\n",
    "                                            \"Fare\",\n",
    "                                            \"SibSp\",\n",
    "                                            \"Parch\"\n",
    "                                        ],\n",
    "                                    categoricalCols = [\n",
    "                                            \"Sex\",\n",
    "                                            \"Embarked\"\n",
    "                                        ],\n",
    "                                    categoricalEncoding=\"index\",\n",
    "                                    algorithm=\"Random Forest\")\n"
   ]
  },
  {
   "cell_type": "code",
   "execution_count": 14,
   "metadata": {},
   "outputs": [
    {
     "name": "stdout",
     "output_type": "stream",
     "text": [
      "assembling feature vectors, using input columns:  ['Age', 'Fare', 'SibSp', 'Parch', 'Sex_indexed', 'Embarked_indexed']\n"
     ]
    }
   ],
   "source": [
    "(categoricalPipeline, preproPipeline, finalPipeline, completePipeline) = pf.make()"
   ]
  },
  {
   "cell_type": "code",
   "execution_count": 15,
   "metadata": {},
   "outputs": [
    {
     "data": {
      "text/plain": [
       "[StringIndexer_46fb9af79f3143bc118f, StringIndexer_49069213b8b8e996f632]"
      ]
     },
     "execution_count": 15,
     "metadata": {},
     "output_type": "execute_result"
    }
   ],
   "source": [
    "categoricalPipeline.getStages()"
   ]
  },
  {
   "cell_type": "code",
   "execution_count": 16,
   "metadata": {},
   "outputs": [],
   "source": [
    "# train-test split\n",
    "training, test = data.randomSplit([0.8, 0.2])\n",
    "training = training.cache()"
   ]
  },
  {
   "cell_type": "code",
   "execution_count": 17,
   "metadata": {},
   "outputs": [],
   "source": [
    "categoricalModel = categoricalPipeline.fit(training)"
   ]
  },
  {
   "cell_type": "code",
   "execution_count": 18,
   "metadata": {},
   "outputs": [
    {
     "name": "stdout",
     "output_type": "stream",
     "text": [
      "+-----------+--------+------+--------------------+------+----+-----+-----+-----------------+--------+-------+--------+-----------+----------------+\n",
      "|PassengerId|Survived|Pclass|                Name|   Sex| Age|SibSp|Parch|           Ticket|    Fare|  Cabin|Embarked|Sex_indexed|Embarked_indexed|\n",
      "+-----------+--------+------+--------------------+------+----+-----+-----+-----------------+--------+-------+--------+-----------+----------------+\n",
      "|          1|       0|     3|Braund, Mr. Owen ...|  male|  22|    1|    0|        A/5 21171|    7.25|   null|       S|        0.0|             0.0|\n",
      "|         10|       1|     2|Nasser, Mrs. Nich...|female|  14|    1|    0|           237736| 30.0708|   null|       C|        1.0|             1.0|\n",
      "|        100|       0|     2|   Kantor, Mr. Sinai|  male|  34|    1|    0|           244367|    26.0|   null|       S|        0.0|             0.0|\n",
      "|        101|       0|     3|Petranec, Miss. M...|female|  28|    0|    0|           349245|  7.8958|   null|       S|        1.0|             0.0|\n",
      "|        102|       0|     3|\"Petroff, Mr. Pas...|  male|null|    0|    0|           349215|  7.8958|   null|       S|        0.0|             0.0|\n",
      "|        103|       0|     1|White, Mr. Richar...|  male|  21|    0|    1|            35281| 77.2875|    D26|       S|        0.0|             0.0|\n",
      "|        104|       0|     3|Johansson, Mr. Gu...|  male|  33|    0|    0|             7540|  8.6542|   null|       S|        0.0|             0.0|\n",
      "|        105|       0|     3|Gustafsson, Mr. A...|  male|  37|    2|    0|          3101276|   7.925|   null|       S|        0.0|             0.0|\n",
      "|        106|       0|     3|Mionoff, Mr. Stoy...|  male|  28|    0|    0|           349207|  7.8958|   null|       S|        0.0|             0.0|\n",
      "|        108|       1|     3|Moss, Mr. Albert ...|  male|null|    0|    0|           312991|   7.775|   null|       S|        0.0|             0.0|\n",
      "|        109|       0|     3|     Rekic, Mr. Tido|  male|  38|    0|    0|           349249|  7.8958|   null|       S|        0.0|             0.0|\n",
      "|         11|       1|     3|Sandstrom, Miss. ...|female|   4|    1|    1|          PP 9549|    16.7|     G6|       S|        1.0|             0.0|\n",
      "|        114|       0|     3|Jussila, Miss. Ka...|female|  20|    1|    0|             4136|   9.825|   null|       S|        1.0|             0.0|\n",
      "|        115|       0|     3|Attalah, Miss. Ma...|female|  17|    0|    0|             2627| 14.4583|   null|       C|        1.0|             1.0|\n",
      "|        116|       0|     3|Pekoniemi, Mr. Ed...|  male|  21|    0|    0|STON/O 2. 3101294|   7.925|   null|       S|        0.0|             0.0|\n",
      "|        118|       0|     2|Turpin, Mr. Willi...|  male|  29|    1|    0|            11668|    21.0|   null|       S|        0.0|             0.0|\n",
      "|        119|       0|     1|Baxter, Mr. Quigg...|  male|  24|    0|    1|         PC 17558|247.5208|B58 B60|       C|        0.0|             1.0|\n",
      "|         12|       1|     1|Bonnell, Miss. El...|female|  58|    0|    0|           113783|   26.55|   C103|       S|        1.0|             0.0|\n",
      "|        121|       0|     2|Hickman, Mr. Stan...|  male|  21|    2|    0|     S.O.C. 14879|    73.5|   null|       S|        0.0|             0.0|\n",
      "|        122|       0|     3|Moore, Mr. Leonar...|  male|null|    0|    0|        A4. 54510|    8.05|   null|       S|        0.0|             0.0|\n",
      "+-----------+--------+------+--------------------+------+----+-----+-----+-----------------+--------+-------+--------+-----------+----------------+\n",
      "only showing top 20 rows\n",
      "\n"
     ]
    }
   ],
   "source": [
    "categoricalModel.transform(training).show()"
   ]
  },
  {
   "cell_type": "code",
   "execution_count": 19,
   "metadata": {},
   "outputs": [
    {
     "name": "stdout",
     "output_type": "stream",
     "text": [
      "CPU times: user 43.9 ms, sys: 8.91 ms, total: 52.8 ms\n",
      "Wall time: 3.1 s\n"
     ]
    }
   ],
   "source": [
    "%%time\n",
    "model = completePipeline.fit(training)\n",
    "\n"
   ]
  },
  {
   "cell_type": "code",
   "execution_count": 20,
   "metadata": {},
   "outputs": [
    {
     "name": "stdout",
     "output_type": "stream",
     "text": [
      "+-----------+--------+------+--------------------+------+----+-----+-----+----------------+-------+-----+--------+\n",
      "|PassengerId|Survived|Pclass|                Name|   Sex| Age|SibSp|Parch|          Ticket|   Fare|Cabin|Embarked|\n",
      "+-----------+--------+------+--------------------+------+----+-----+-----+----------------+-------+-----+--------+\n",
      "|       null|    null|  null|                null|  null|null| null| null|            null|   null| null|    null|\n",
      "|       null|    null|  null|                null|  null|null| null| null|            null|   null| null|    null|\n",
      "|       null|    null|  null|                null|  null|null| null| null|            null|   null| null|    null|\n",
      "|        107|       1|     3|Salkjelsvik, Miss...|female|  21|    0|    0|          343120|   7.65| null|       S|\n",
      "|        110|       1|     3| Moran, Miss. Bertha|female|null|    1|    0|          371110|  24.15| null|       Q|\n",
      "|        111|       0|     1|Porter, Mr. Walte...|  male|  47|    0|    0|          110465|   52.0| C110|       S|\n",
      "|        113|       0|     3|Barton, Mr. David...|  male|  22|    0|    0|          324669|   8.05| null|       S|\n",
      "|        120|       0|     3|Andersson, Miss. ...|female|   2|    4|    2|          347082| 31.275| null|       S|\n",
      "|        137|       1|     1|Newsom, Miss. Hel...|female|  19|    0|    2|           11752|26.2833|  D47|       S|\n",
      "|        157|       1|     3|\"Gilnagh, Miss. K...|female|  16|    0|    0|           35851| 7.7333| null|       Q|\n",
      "|         16|       1|     2|Hewlett, Mrs. (Ma...|female|  55|    0|    0|          248706|   16.0| null|       S|\n",
      "|        160|       0|     3|Sage, Master. Tho...|  male|null|    8|    2|        CA. 2343|  69.55| null|       S|\n",
      "|        189|       0|     3|    Bourke, Mr. John|  male|  40|    1|    1|          364849|   15.5| null|       Q|\n",
      "|        199|       1|     3|\"Madigan, Miss. M...|female|null|    0|    0|          370370|   7.75| null|       Q|\n",
      "|        200|       0|     2|\"Yrois, Miss. Hen...|female|  24|    0|    0|          248747|   13.0| null|       S|\n",
      "|        206|       0|     3|Strom, Miss. Telm...|female|   2|    0|    1|          347054|10.4625|   G6|       S|\n",
      "|        212|       1|     2|Cameron, Miss. Cl...|female|  35|    0|    0|    F.C.C. 13528|   21.0| null|       S|\n",
      "|        217|       1|     3|Honkanen, Miss. E...|female|  27|    0|    0|STON/O2. 3101283|  7.925| null|       S|\n",
      "|        221|       1|     3|Sunderland, Mr. V...|  male|  16|    0|    0| SOTON/OQ 392089|   8.05| null|       S|\n",
      "|        239|       0|     2|Pengelly, Mr. Fre...|  male|  19|    0|    0|           28665|   10.5| null|       S|\n",
      "+-----------+--------+------+--------------------+------+----+-----+-----+----------------+-------+-----+--------+\n",
      "only showing top 20 rows\n",
      "\n"
     ]
    }
   ],
   "source": [
    "test.show()"
   ]
  },
  {
   "cell_type": "code",
   "execution_count": 21,
   "metadata": {},
   "outputs": [],
   "source": [
    "predictions = model.transform(test)\n"
   ]
  },
  {
   "cell_type": "code",
   "execution_count": 22,
   "metadata": {},
   "outputs": [
    {
     "name": "stdout",
     "output_type": "stream",
     "text": [
      "[('features', 'vector'), ('label', 'int'), ('rawPrediction', 'vector'), ('probability', 'vector'), ('prediction', 'double')]\n"
     ]
    }
   ],
   "source": [
    "print(predictions.dtypes)"
   ]
  },
  {
   "cell_type": "code",
   "execution_count": 23,
   "metadata": {},
   "outputs": [
    {
     "name": "stdout",
     "output_type": "stream",
     "text": [
      "+--------------------+-----+--------------------+--------------------+----------+\n",
      "|            features|label|       rawPrediction|         probability|prediction|\n",
      "+--------------------+-----+--------------------+--------------------+----------+\n",
      "|[21.0,7.65,0.0,0....|    1|[6.89377552626270...|[0.34468877631313...|       1.0|\n",
      "|(6,[0,1],[47.0,52...|    0|[14.1859847504173...|[0.70929923752086...|       0.0|\n",
      "|(6,[0,1],[22.0,8....|    0|[17.2613983579629...|[0.86306991789814...|       0.0|\n",
      "|[2.0,31.275,4.0,2...|    0|[15.5012820512820...|[0.77506410256410...|       0.0|\n",
      "|[19.0,26.2833,0.0...|    1|[2.26138981146894...|[0.11306949057344...|       1.0|\n",
      "|[16.0,7.7333,0.0,...|    1|[4.83533667227300...|[0.24176683361365...|       1.0|\n",
      "|[55.0,16.0,0.0,0....|    1|[5.20091572114751...|[0.26004578605737...|       1.0|\n",
      "|[40.0,15.5,1.0,1....|    0|[16.0386661349680...|[0.80193330674840...|       0.0|\n",
      "|[24.0,13.0,0.0,0....|    0|[4.20846415958976...|[0.21042320797948...|       1.0|\n",
      "|[2.0,10.4625,0.0,...|    0|[3.62117184502388...|[0.18105859225119...|       1.0|\n",
      "|[35.0,21.0,0.0,0....|    1|[3.56455765834632...|[0.17822788291731...|       1.0|\n",
      "|[27.0,7.925,0.0,0...|    1|[8.83266441515159...|[0.44163322075757...|       1.0|\n",
      "|(6,[0,1],[16.0,8....|    1|[17.5909821216509...|[0.87954910608254...|       0.0|\n",
      "|(6,[0,1],[19.0,10...|    0|[17.2150120666124...|[0.86075060333062...|       0.0|\n",
      "|(6,[0,1],[33.0,12...|    0|[17.0920715558352...|[0.85460357779176...|       0.0|\n",
      "|[30.0,7.225,0.0,0...|    0|[16.7645701818711...|[0.83822850909355...|       0.0|\n",
      "|[37.0,52.5542,1.0...|    1|[13.9465446977163...|[0.69732723488581...|       0.0|\n",
      "|[54.0,26.0,1.0,0....|    0|[17.7759263637656...|[0.88879631818828...|       0.0|\n",
      "|[29.0,10.4625,1.0...|    0|[4.23114781055001...|[0.21155739052750...|       1.0|\n",
      "|(6,[0,1],[62.0,26...|    0|[16.4569618933323...|[0.82284809466661...|       0.0|\n",
      "+--------------------+-----+--------------------+--------------------+----------+\n",
      "only showing top 20 rows\n",
      "\n"
     ]
    }
   ],
   "source": [
    "predictions.show()"
   ]
  },
  {
   "cell_type": "code",
   "execution_count": 24,
   "metadata": {},
   "outputs": [
    {
     "data": {
      "text/html": [
       "<div>\n",
       "<style scoped>\n",
       "    .dataframe tbody tr th:only-of-type {\n",
       "        vertical-align: middle;\n",
       "    }\n",
       "\n",
       "    .dataframe tbody tr th {\n",
       "        vertical-align: top;\n",
       "    }\n",
       "\n",
       "    .dataframe thead th {\n",
       "        text-align: right;\n",
       "    }\n",
       "</style>\n",
       "<table border=\"1\" class=\"dataframe\">\n",
       "  <thead>\n",
       "    <tr style=\"text-align: right;\">\n",
       "      <th></th>\n",
       "      <th>label</th>\n",
       "      <th>Precision</th>\n",
       "      <th>Recall</th>\n",
       "      <th>F1</th>\n",
       "    </tr>\n",
       "  </thead>\n",
       "  <tbody>\n",
       "    <tr>\n",
       "      <th>0</th>\n",
       "      <td>0.0</td>\n",
       "      <td>0.924051</td>\n",
       "      <td>0.793478</td>\n",
       "      <td>0.853801</td>\n",
       "    </tr>\n",
       "    <tr>\n",
       "      <th>1</th>\n",
       "      <td>1.0</td>\n",
       "      <td>0.660714</td>\n",
       "      <td>0.860465</td>\n",
       "      <td>0.747475</td>\n",
       "    </tr>\n",
       "  </tbody>\n",
       "</table>\n",
       "</div>"
      ],
      "text/plain": [
       "   label  Precision    Recall        F1\n",
       "0    0.0   0.924051  0.793478  0.853801\n",
       "1    1.0   0.660714  0.860465  0.747475"
      ]
     },
     "execution_count": 24,
     "metadata": {},
     "output_type": "execute_result"
    }
   ],
   "source": [
    "factory.evaluateClassifier(completePipeline, data)"
   ]
  },
  {
   "cell_type": "code",
   "execution_count": 25,
   "metadata": {},
   "outputs": [
    {
     "data": {
      "text/plain": [
       "SparseVector(6, {0: 0.1549, 1: 0.1637, 2: 0.0556, 3: 0.0681, 4: 0.5358, 5: 0.0219})"
      ]
     },
     "execution_count": 25,
     "metadata": {},
     "output_type": "execute_result"
    }
   ],
   "source": [
    "model.stages[-1].featureImportances"
   ]
  },
  {
   "cell_type": "code",
   "execution_count": null,
   "metadata": {},
   "outputs": [],
   "source": []
  }
 ],
 "metadata": {
  "kernelspec": {
   "display_name": "Python 3",
   "language": "python",
   "name": "python3"
  },
  "language_info": {
   "codemirror_mode": {
    "name": "ipython",
    "version": 3
   },
   "file_extension": ".py",
   "mimetype": "text/x-python",
   "name": "python",
   "nbconvert_exporter": "python",
   "pygments_lexer": "ipython3",
   "version": "3.6.4"
  }
 },
 "nbformat": 4,
 "nbformat_minor": 2
}

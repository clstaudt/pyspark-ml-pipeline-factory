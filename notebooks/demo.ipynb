{
 "cells": [
  {
   "cell_type": "markdown",
   "metadata": {},
   "source": [
    "# Demo: PySpark ML Pipeline Factory"
   ]
  },
  {
   "cell_type": "markdown",
   "metadata": {},
   "source": [
    "## Preamble"
   ]
  },
  {
   "cell_type": "code",
   "execution_count": 1,
   "metadata": {},
   "outputs": [],
   "source": [
    "# some jupyter notebook setup \n",
    "%matplotlib inline\n",
    "%load_ext autoreload\n",
    "%autoreload 2"
   ]
  },
  {
   "cell_type": "code",
   "execution_count": 2,
   "metadata": {},
   "outputs": [],
   "source": [
    "import findspark\n",
    "findspark.init()"
   ]
  },
  {
   "cell_type": "code",
   "execution_count": 3,
   "metadata": {},
   "outputs": [],
   "source": [
    "import pyspark"
   ]
  },
  {
   "cell_type": "code",
   "execution_count": 4,
   "metadata": {},
   "outputs": [
    {
     "name": "stdout",
     "output_type": "stream",
     "text": [
      "/Users/cls/Documents/IndependentDataScience/Projects/Telekom/pyspark-ml-pipeline-factory\n"
     ]
    }
   ],
   "source": [
    "cd .."
   ]
  },
  {
   "cell_type": "markdown",
   "metadata": {},
   "source": [
    "## Loading the Data"
   ]
  },
  {
   "cell_type": "markdown",
   "metadata": {},
   "source": [
    "For this demo, we use the famous Titanic passenger list data set."
   ]
  },
  {
   "cell_type": "code",
   "execution_count": 5,
   "metadata": {},
   "outputs": [],
   "source": [
    "data_path = \"data/titanic.csv\""
   ]
  },
  {
   "cell_type": "code",
   "execution_count": 6,
   "metadata": {},
   "outputs": [
    {
     "name": "stdout",
     "output_type": "stream",
     "text": [
      "PassengerId,Survived,Pclass,Name,Sex,Age,SibSp,Parch,Ticket,Fare,Cabin,Embarked\n",
      "1,0,3,\"Braund, Mr. Owen Harris\",male,22,1,0,A/5 21171,7.25,,S\n",
      "2,1,1,\"Cumings, Mrs. John Bradley (Florence Briggs Thayer)\",female,38,1,0,PC 17599,71.2833,C85,C\n",
      "3,1,3,\"Heikkinen, Miss. Laina\",female,26,0,0,STON/O2. 3101282,7.925,,S\n",
      "4,1,1,\"Futrelle, Mrs. Jacques Heath (Lily May Peel)\",female,35,1,0,113803,53.1,C123,S\n",
      "5,0,3,\"Allen, Mr. William Henry\",male,35,0,0,373450,8.05,,S\n",
      "6,0,3,\"Moran, Mr. James\",male,,0,0,330877,8.4583,,Q\n",
      "7,0,1,\"McCarthy, Mr. Timothy J\",male,54,0,0,17463,51.8625,E46,S\n",
      "8,0,3,\"Palsson, Master. Gosta Leonard\",male,2,3,1,349909,21.075,,S\n",
      "9,1,3,\"Johnson, Mrs. Oscar W (Elisabeth Vilhelmina Berg)\",female,27,0,2,347742,11.1333,,S\n"
     ]
    }
   ],
   "source": [
    "!head {data_path}"
   ]
  },
  {
   "cell_type": "markdown",
   "metadata": {},
   "source": [
    "Using Spark to read the contents of the .csv file into a data frame:\n",
    "\n",
    "creating a SparkSession"
   ]
  },
  {
   "cell_type": "code",
   "execution_count": 7,
   "metadata": {},
   "outputs": [],
   "source": [
    "spark = pyspark.sql.SparkSession \\\n",
    "    .builder \\\n",
    "    .appName(\"MLPipelineFactoryDemo\") \\\n",
    "    .getOrCreate()\n"
   ]
  },
  {
   "cell_type": "markdown",
   "metadata": {},
   "source": [
    "defining the schema of the data set:"
   ]
  },
  {
   "cell_type": "code",
   "execution_count": 8,
   "metadata": {},
   "outputs": [],
   "source": [
    "from pyspark.sql.types import StructType, StructField, DoubleType, IntegerType, StringType\n",
    "\n",
    "schema = StructType([\n",
    "             StructField('PassengerId', StringType()),\n",
    "             StructField('Survived', IntegerType()),\n",
    "             StructField('Pclass', IntegerType()),\n",
    "             StructField('Name', StringType()),\n",
    "             StructField('Sex', StringType()),\n",
    "             StructField('Age', IntegerType()),\n",
    "             StructField('SibSp', IntegerType()),\n",
    "             StructField('Parch', IntegerType()),\n",
    "             StructField('Ticket', StringType()),\n",
    "             StructField('Fare', DoubleType()),\n",
    "             StructField('Cabin', StringType()),\n",
    "             StructField('Embarked', StringType())\n",
    "        ])"
   ]
  },
  {
   "cell_type": "markdown",
   "metadata": {},
   "source": [
    "reading CSV into a data frame"
   ]
  },
  {
   "cell_type": "code",
   "execution_count": 9,
   "metadata": {},
   "outputs": [],
   "source": [
    "data = spark.read.format(\"csv\").option(\"header\", \"true\").schema(schema).load(data_path) \n"
   ]
  },
  {
   "cell_type": "code",
   "execution_count": 10,
   "metadata": {},
   "outputs": [
    {
     "name": "stdout",
     "output_type": "stream",
     "text": [
      "+-----------+--------+------+--------------------+------+---+-----+-----+----------------+-------+-----+--------+\n",
      "|PassengerId|Survived|Pclass|                Name|   Sex|Age|SibSp|Parch|          Ticket|   Fare|Cabin|Embarked|\n",
      "+-----------+--------+------+--------------------+------+---+-----+-----+----------------+-------+-----+--------+\n",
      "|          1|       0|     3|Braund, Mr. Owen ...|  male| 22|    1|    0|       A/5 21171|   7.25| null|       S|\n",
      "|          2|       1|     1|Cumings, Mrs. Joh...|female| 38|    1|    0|        PC 17599|71.2833|  C85|       C|\n",
      "|          3|       1|     3|Heikkinen, Miss. ...|female| 26|    0|    0|STON/O2. 3101282|  7.925| null|       S|\n",
      "|          4|       1|     1|Futrelle, Mrs. Ja...|female| 35|    1|    0|          113803|   53.1| C123|       S|\n",
      "|          5|       0|     3|Allen, Mr. Willia...|  male| 35|    0|    0|          373450|   8.05| null|       S|\n",
      "+-----------+--------+------+--------------------+------+---+-----+-----+----------------+-------+-----+--------+\n",
      "only showing top 5 rows\n",
      "\n"
     ]
    }
   ],
   "source": [
    "data.show(5)"
   ]
  },
  {
   "cell_type": "markdown",
   "metadata": {},
   "source": [
    "Here is a description of the data set:"
   ]
  },
  {
   "cell_type": "code",
   "execution_count": 11,
   "metadata": {},
   "outputs": [
    {
     "name": "stdout",
     "output_type": "stream",
     "text": [
      "Data Dictionary\n",
      "\n",
      "Variable\tDefinition\tKey\n",
      "survival \tSurvival \t0 = No, 1 = Yes\n",
      "pclass \t    Ticket class \t1 = 1st, 2 = 2nd, 3 = 3rd\n",
      "sex \t    Sex \t\n",
      "Age \t    Age in years \t\n",
      "sibsp \t    # of siblings / spouses aboard the Titanic \t\n",
      "parch \t    # of parents / children aboard the Titanic \t\n",
      "ticket \t    Ticket number \t\n",
      "fare \t    Passenger fare \t\n",
      "cabin \t    Cabin number \t\n",
      "embarked \tPort of Embarkation \tC = Cherbourg, Q = Queenstown, S = Southampton\n",
      "\n",
      "\n",
      "Variable Notes\n",
      "\n",
      "pclass: A proxy for socio-economic status (SES)\n",
      "1st = Upper\n",
      "2nd = Middle\n",
      "3rd = Lower\n",
      "\n",
      "age: Age is fractional if less than 1. If the age is estimated, is it in the form of xx.5\n",
      "\n",
      "sibsp: The dataset defines family relations in this way...\n",
      "Sibling = brother, sister, stepbrother, stepsister\n",
      "Spouse = husband, wife (mistresses and fiancés were ignored)\n",
      "\n",
      "parch: The dataset defines family relations in this way...\n",
      "Parent = mother, father\n",
      "Child = daughter, son, stepdaughter, stepson\n",
      "Some children travelled only with a nanny, therefore parch=0 for them."
     ]
    }
   ],
   "source": [
    "!cat data/titanic-documentation.txt"
   ]
  },
  {
   "cell_type": "markdown",
   "metadata": {},
   "source": [
    "## Using the Module"
   ]
  },
  {
   "cell_type": "markdown",
   "metadata": {},
   "source": [
    "We now use the `MLPipelineFactory` class to configure a machine learning pipeline, at the end of which we obtain a trained predictive model. \n",
    "\n",
    "In this case, we want to train a classifier that predicts the target variable `Survived` - whether the passenger survived the Titanic disaster - depending on the input columns `Age`, `Fare`, `Sex` and `Embarked`. Some of these columns contain numeric values, some contain categorical values in the form of strings. As they need to be preprocessed differently, we need to pass them separately via the parameters `numericCols` and `categoricalCols`. We also pass a strategy for turning the categories into numeric values, as only numeric values can be processed by the ML algorithm: For example, the `index` strategy assigns an index number to each string value. An alternative strategy would be one-hot encoding."
   ]
  },
  {
   "cell_type": "code",
   "execution_count": 12,
   "metadata": {},
   "outputs": [],
   "source": [
    "from mlpipelinefactory import factory"
   ]
  },
  {
   "cell_type": "code",
   "execution_count": 13,
   "metadata": {},
   "outputs": [],
   "source": [
    "pf = factory.MLPipelineFactory(data=data,\n",
    "                                    problemType=\"classification\",\n",
    "                                    target=\"Survived\",\n",
    "                                    numericCols=[\n",
    "                                            \"Age\",\n",
    "                                            \"Fare\"\n",
    "                                        ],\n",
    "                                    categoricalCols = [\n",
    "                                            \"Sex\",\n",
    "                                            \"Embarked\"\n",
    "                                        ],\n",
    "                                    categoricalEncoding=\"index\")\n"
   ]
  },
  {
   "cell_type": "markdown",
   "metadata": {},
   "source": [
    "A call to the `make` method assembles the `pyspark.ml.Pipeline` according to our specification:"
   ]
  },
  {
   "cell_type": "markdown",
   "metadata": {},
   "source": [
    "### Predictive Use"
   ]
  },
  {
   "cell_type": "code",
   "execution_count": 14,
   "metadata": {},
   "outputs": [
    {
     "name": "stdout",
     "output_type": "stream",
     "text": [
      "assembling feature vectors, using input columns:  ['Age', 'Fare', 'Sex_indexed', 'Embarked_indexed']\n"
     ]
    }
   ],
   "source": [
    "pf.make()"
   ]
  },
  {
   "cell_type": "code",
   "execution_count": 15,
   "metadata": {},
   "outputs": [],
   "source": [
    "pipeline = pf.getPipeline()"
   ]
  },
  {
   "cell_type": "markdown",
   "metadata": {},
   "source": [
    "The resulting pipeline can now be used to train a predictive model. We test this by splitting the data set into a training and test set and applying the pipeline:"
   ]
  },
  {
   "cell_type": "code",
   "execution_count": 17,
   "metadata": {},
   "outputs": [],
   "source": [
    "splitRatio = 0.8\n",
    "training, test = data.randomSplit([splitRatio, 1-splitRatio])"
   ]
  },
  {
   "cell_type": "code",
   "execution_count": 18,
   "metadata": {},
   "outputs": [
    {
     "name": "stdout",
     "output_type": "stream",
     "text": [
      "CPU times: user 39.2 ms, sys: 8.22 ms, total: 47.4 ms\n",
      "Wall time: 7.89 s\n"
     ]
    }
   ],
   "source": [
    "%%time\n",
    "model = pipeline.fit(training)\n"
   ]
  },
  {
   "cell_type": "markdown",
   "metadata": {},
   "source": [
    "A pipeline is an **estimator** that returns a **model** when calling its `fit` method. The `transform` method of the model yields the predictions for the test data set:"
   ]
  },
  {
   "cell_type": "code",
   "execution_count": 19,
   "metadata": {},
   "outputs": [],
   "source": [
    "predictions = model.transform(test)"
   ]
  },
  {
   "cell_type": "code",
   "execution_count": 20,
   "metadata": {},
   "outputs": [
    {
     "name": "stdout",
     "output_type": "stream",
     "text": [
      "+--------------------+-----+--------------------+--------------------+----------+\n",
      "|            features|label|       rawPrediction|         probability|prediction|\n",
      "+--------------------+-----+--------------------+--------------------+----------+\n",
      "|[24.0,7.1417,0.0,...|    1|[18.3908371973777...|[0.91954185986888...|       0.0|\n",
      "| [20.0,8.05,0.0,0.0]|    0|[18.0877045515737...|[0.90438522757868...|       0.0|\n",
      "|[45.0,6.975,0.0,0.0]|    0|[18.4658582873718...|[0.92329291436859...|       0.0|\n",
      "| [20.0,7.05,0.0,0.0]|    0|[18.4300528836522...|[0.92150264418261...|       0.0|\n",
      "| [25.0,13.0,0.0,0.0]|    0|[18.1488525296068...|[0.90744262648034...|       0.0|\n",
      "|[24.0,15.85,1.0,0.0]|    1|[7.21936079198107...|[0.36096803959905...|       1.0|\n",
      "| [18.0,11.5,0.0,0.0]|    0|[18.3012127775039...|[0.91506063887519...|       0.0|\n",
      "| [42.0,13.0,0.0,0.0]|    0|[17.2055525712111...|[0.86027762856055...|       0.0|\n",
      "|[26.0,7.775,0.0,0.0]|    0|[17.5222149401631...|[0.87611074700815...|       0.0|\n",
      "|[9.0,20.525,0.0,0.0]|    1|[15.6276427362517...|[0.78138213681258...|       0.0|\n",
      "| [30.0,13.0,0.0,0.0]|    0|[17.8284249235361...|[0.89142124617680...|       0.0|\n",
      "|      (4,[0],[36.0])|    0|[18.4658582873718...|[0.92329291436859...|       0.0|\n",
      "| [40.0,15.5,0.0,2.0]|    0|[16.9797934530989...|[0.84898967265494...|       0.0|\n",
      "|[36.0,7.8958,0.0,...|    0|[18.4178282342290...|[0.92089141171145...|       0.0|\n",
      "|[34.0,6.4958,0.0,...|    0|[18.4658582873718...|[0.92329291436859...|       0.0|\n",
      "| [16.0,7.75,1.0,2.0]|    1|[9.81611438230310...|[0.49080571911515...|       1.0|\n",
      "| [24.0,7.05,0.0,0.0]|    0|[18.3908371973777...|[0.91954185986888...|       0.0|\n",
      "| [35.0,21.0,1.0,0.0]|    1|[3.90786859212445...|[0.19539342960622...|       1.0|\n",
      "| [30.0,13.0,0.0,0.0]|    0|[17.8284249235361...|[0.89142124617680...|       0.0|\n",
      "|[27.0,7.925,1.0,0.0]|    1|[11.1002960966676...|[0.55501480483338...|       0.0|\n",
      "+--------------------+-----+--------------------+--------------------+----------+\n",
      "only showing top 20 rows\n",
      "\n"
     ]
    }
   ],
   "source": [
    "predictions.show()"
   ]
  },
  {
   "cell_type": "markdown",
   "metadata": {},
   "source": [
    "There is also a convenience function of evaluating the predictive performance of the model, given a configuration of the pipeline factory:"
   ]
  },
  {
   "cell_type": "code",
   "execution_count": 21,
   "metadata": {},
   "outputs": [
    {
     "data": {
      "text/html": [
       "<div>\n",
       "<style scoped>\n",
       "    .dataframe tbody tr th:only-of-type {\n",
       "        vertical-align: middle;\n",
       "    }\n",
       "\n",
       "    .dataframe tbody tr th {\n",
       "        vertical-align: top;\n",
       "    }\n",
       "\n",
       "    .dataframe thead th {\n",
       "        text-align: right;\n",
       "    }\n",
       "</style>\n",
       "<table border=\"1\" class=\"dataframe\">\n",
       "  <thead>\n",
       "    <tr style=\"text-align: right;\">\n",
       "      <th></th>\n",
       "      <th>label</th>\n",
       "      <th>Precision</th>\n",
       "      <th>Recall</th>\n",
       "      <th>F1</th>\n",
       "    </tr>\n",
       "  </thead>\n",
       "  <tbody>\n",
       "    <tr>\n",
       "      <th>0</th>\n",
       "      <td>0.0</td>\n",
       "      <td>0.760417</td>\n",
       "      <td>0.848837</td>\n",
       "      <td>0.802198</td>\n",
       "    </tr>\n",
       "    <tr>\n",
       "      <th>1</th>\n",
       "      <td>1.0</td>\n",
       "      <td>0.740000</td>\n",
       "      <td>0.616667</td>\n",
       "      <td>0.672727</td>\n",
       "    </tr>\n",
       "  </tbody>\n",
       "</table>\n",
       "</div>"
      ],
      "text/plain": [
       "   label  Precision    Recall        F1\n",
       "0    0.0   0.760417  0.848837  0.802198\n",
       "1    1.0   0.740000  0.616667  0.672727"
      ]
     },
     "execution_count": 21,
     "metadata": {},
     "output_type": "execute_result"
    }
   ],
   "source": [
    "factory.evaluateClassifier(pf, data)"
   ]
  },
  {
   "cell_type": "markdown",
   "metadata": {},
   "source": [
    "### Explanatory Use"
   ]
  },
  {
   "cell_type": "markdown",
   "metadata": {},
   "source": [
    "We can use certain predictive models in an explanatory way: Several ML algorithms can output **feature importances**, that is, an estimate of how important a feature is for the prediction. This can be used to suggest hypotheses about factors that influence our target variable of interest."
   ]
  },
  {
   "cell_type": "code",
   "execution_count": 22,
   "metadata": {},
   "outputs": [
    {
     "data": {
      "text/plain": [
       "Sex_indexed         0.516685\n",
       "Fare                0.293755\n",
       "Age                 0.147774\n",
       "Embarked_indexed    0.041787\n",
       "dtype: float64"
      ]
     },
     "execution_count": 22,
     "metadata": {},
     "output_type": "execute_result"
    }
   ],
   "source": [
    "factory.computeFeatureImportances(pf, data)"
   ]
  },
  {
   "cell_type": "code",
   "execution_count": 23,
   "metadata": {},
   "outputs": [
    {
     "data": {
      "text/plain": [
       "<matplotlib.axes._subplots.AxesSubplot at 0x110504630>"
      ]
     },
     "execution_count": 23,
     "metadata": {},
     "output_type": "execute_result"
    },
    {
     "data": {
      "image/png": "[encoded data removed]",
      "text/plain": [
       "<Figure size 576x216 with 1 Axes>"
      ]
     },
     "metadata": {},
     "output_type": "display_data"
    }
   ],
   "source": [
    "factory.computeFeatureImportances(pf, data).plot(kind=\"bar\", figsize=(8,3))"
   ]
  },
  {
   "cell_type": "markdown",
   "metadata": {},
   "source": [
    "In this example, the predictive model relies primarily on gender, ticket price, and age - and less so on the port where the passenger embarked. Interpreting this result can suggest several hypotheses, for example that passengers and crew followed the rule of \"women and children first\", that the lower class passengers had a lower chance of survival..  \n",
    "\n",
    "Interpreting feature importances in a rigorous way is not trivial and merits more discussion. However, a plot like this is a good starting point for **exploratory analysis**."
   ]
  },
  {
   "cell_type": "code",
   "execution_count": null,
   "metadata": {},
   "outputs": [],
   "source": []
  }
 ],
 "metadata": {
  "kernelspec": {
   "display_name": "Python 3",
   "language": "python",
   "name": "python3"
  },
  "language_info": {
   "codemirror_mode": {
    "name": "ipython",
    "version": 3
   },
   "file_extension": ".py",
   "mimetype": "text/x-python",
   "name": "python",
   "nbconvert_exporter": "python",
   "pygments_lexer": "ipython3",
   "version": "3.6.5"
  }
 },
 "nbformat": 4,
 "nbformat_minor": 2
}
